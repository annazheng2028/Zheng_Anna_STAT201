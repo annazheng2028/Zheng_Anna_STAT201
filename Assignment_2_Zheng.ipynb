{
 "cells": [
  {
   "cell_type": "raw",
   "metadata": {
    "vscode": {
     "languageId": "raw"
    }
   },
   "source": [
    "---\n",
    "title: \"Assignment 2\"\n",
    "subtitle: \"STAT 201\"\n",
    "author: \"Anna Zheng\"\n",
    "format:\n",
    "  html:\n",
    "    toc: true\n",
    "    embed-resources: true\n",
    "---"
   ]
  },
  {
   "cell_type": "markdown",
   "metadata": {},
   "source": [
    "### Instructions"
   ]
  },
  {
   "cell_type": "markdown",
   "metadata": {},
   "source": [
    "1. **Write your name** on the assignment.\n",
    "\n",
    "2. Write your code in the *Code* cells of the **template provided** to write solutions for the assignment. **Do not open a new notebook**, and work from scratch. Ensure that the solution is written neatly enough to understand and grade.\n",
    "\n",
    "3. Use [Quarto](https://quarto.org/docs/output-formats/html-basics.html) to print the *.ipynb* file as HTML. You will need to open the command prompt, navigate to the directory containing the file, and use the command: `quarto render filename.ipynb --to html`. Submit the HTML file.\n",
    "\n",
    "4. You may talk to a friend, discuss the questions and potential directions for solving them. However, you need to write your own solutions and code separately, and not as a group activity. Do not use AI to solve the problems.\n",
    "\n",
    "5. There are 2 points for cleanliness and organization. The breakdown is as follows:\n",
    "    - Must be an HTML file rendered using Quarto. \n",
    "    - There aren’t excessively long outputs of extraneous information (e.g. no printouts of unnecessary results without good reason, there aren’t long printouts of which iteration a loop is on, there aren’t long sections of commented-out code, etc.). There is no piece of unnecessary / redundant code, and no unnecessary / redundant text\n",
    "    - The code follows the [python style guide](https://peps.python.org/pep-0008/) for naming variables, spaces, indentation, etc.\n",
    "    - The code should be commented and clearly written with intuitive variable names. For example, use variable names such as number_input, factor, hours, instead of a,b,xyz, etc."
   ]
  },
  {
   "cell_type": "markdown",
   "metadata": {},
   "source": [
    "### Question 1 (3 points)"
   ]
  },
  {
   "cell_type": "markdown",
   "metadata": {},
   "source": [
    "a) Write a program that counts down from 5 and then prints the message \"Go\"."
   ]
  },
  {
   "cell_type": "code",
   "execution_count": 5,
   "metadata": {},
   "outputs": [
    {
     "name": "stdout",
     "output_type": "stream",
     "text": [
      "5\n",
      "4\n",
      "3\n",
      "2\n",
      "1\n",
      "Go\n"
     ]
    }
   ],
   "source": [
    "count = 5\n",
    "print(count)\n",
    "while True:\n",
    "    if count <= 5 and count > 1:\n",
    "        count -= 1\n",
    "        print(count)\n",
    "    else:\n",
    "        print(\"Go\")\n",
    "        break\n"
   ]
  },
  {
   "cell_type": "markdown",
   "metadata": {},
   "source": [
    "b) Write a program that asks the user for an integer, then counts down from that integer and then prints the message \"Go\". Use a try-except to ensure the user entered an integer. If it is not an integer, return the message \"You must enter an integer\". Show the output of the program if the user inputs `3`. "
   ]
  },
  {
   "cell_type": "code",
   "execution_count": 2,
   "metadata": {},
   "outputs": [
    {
     "name": "stdout",
     "output_type": "stream",
     "text": [
      "3\n",
      "2\n",
      "1\n",
      "Go\n"
     ]
    }
   ],
   "source": [
    "while True:\n",
    "    try:\n",
    "        chosen_integer = int(input(\"Enter an integer.\"))\n",
    "        count = chosen_integer\n",
    "        print(count)\n",
    "        while count > 1:\n",
    "            count -= 1\n",
    "            print(count)\n",
    "        else:\n",
    "            print(\"Go\")\n",
    "            break\n",
    "    except:\n",
    "        print(\"You must enter an integer.\")\n",
    "        break"
   ]
  },
  {
   "cell_type": "markdown",
   "metadata": {},
   "source": [
    "c) Copy and modify part b to allow the user to keep entering input until they correctly enter an integer (ie: don't end after the except). Show the output of the program if the user first inputs `8.9` and then inputs `7`. "
   ]
  },
  {
   "cell_type": "code",
   "execution_count": null,
   "metadata": {},
   "outputs": [
    {
     "name": "stdout",
     "output_type": "stream",
     "text": [
      "Please enter an integer.\n",
      "7\n",
      "6\n",
      "5\n",
      "4\n",
      "3\n",
      "2\n",
      "1\n",
      "Go\n"
     ]
    }
   ],
   "source": [
    "while True:\n",
    "    try:\n",
    "        chosen_integer = int(input(\"Enter an integer.\"))\n",
    "        count = chosen_integer\n",
    "        print(count)\n",
    "        while count > 1:\n",
    "            count -= 1\n",
    "            print(count)\n",
    "        print(\"Go\")\n",
    "        break\n",
    "    except:\n",
    "        print(\"Please enter an integer.\")"
   ]
  },
  {
   "cell_type": "markdown",
   "metadata": {},
   "source": [
    "### Question 2 (2 points)"
   ]
  },
  {
   "cell_type": "markdown",
   "metadata": {},
   "source": [
    "Print a star formation as follows:\n",
    "\n",
    "                                             * \n",
    "                                             * * \n",
    "                                             * * * \n",
    "                                             * * * * \n",
    "                                             \n",
    "Ask the user to input the height of the formation first. For example, 4 should return the formation above. Show the output of the program if the user inputs `5`. "
   ]
  },
  {
   "cell_type": "code",
   "execution_count": 6,
   "metadata": {},
   "outputs": [
    {
     "name": "stdout",
     "output_type": "stream",
     "text": [
      "*\n",
      "**\n",
      "***\n",
      "****\n",
      "*****\n"
     ]
    }
   ],
   "source": [
    "height = int(input(\"How many levels do you want the formation to be?\"))\n",
    "count = 0\n",
    "while True:\n",
    "    if count < height:\n",
    "        count += 1\n",
    "        print(\"*\" * count)\n",
    "    else:\n",
    "        break"
   ]
  },
  {
   "cell_type": "markdown",
   "metadata": {},
   "source": [
    "### Question 3 (6 points)"
   ]
  },
  {
   "cell_type": "markdown",
   "metadata": {},
   "source": [
    "a) Write a program where you play 3 \"Rock, Paper, Scissors\" games against the computer. Simulate a random choice for the computer each game and ask the user to enter either rock, paper, or scissors. Print the number of times the user won out of 3 games. Show the output of the program after playing the game. \n",
    "\n",
    "Recall: rock beats scissors; scissors beats paper; paper beats rock.\n",
    "\n",
    "Example:\n",
    "\n",
    "                                    \"You won <num_win> out of 3 games.\""
   ]
  },
  {
   "cell_type": "code",
   "execution_count": 41,
   "metadata": {},
   "outputs": [
    {
     "name": "stdout",
     "output_type": "stream",
     "text": [
      "You lose. You chose rock and the computer chose paper.\n",
      "You win! You chose paper and the computer chose rock.\n",
      "You lose. You chose scissors and the computer chose rock.\n",
      "You won 1 of 3 games.\n"
     ]
    }
   ],
   "source": [
    "import random as rm\n",
    "user_choices = ['rock', 'paper', 'scissors']\n",
    "user_win_count = 0\n",
    "\n",
    "for i in range(1,4):\n",
    "    comp_choice = rm.choice(['rock', 'paper', 'scissors'])\n",
    "    user_choice = input(\"Choose rock, paper, or scissors.\")\n",
    "    if user_choice not in user_choices:\n",
    "        print(\"Invalid input. You lose.\")\n",
    "    elif user_choice == comp_choice:\n",
    "        print(f\"Tie. You chose {user_choice} and the computer chose {comp_choice}.\")\n",
    "    elif (user_choice == \"rock\" and comp_choice == \"scissors\") or (user_choice == \"paper\" and comp_choice == \"rock\") or (user_choice == \"scissors\" and comp_choice == \"paper\"):\n",
    "        print(f\"You win! You chose {user_choice} and the computer chose {comp_choice}.\")\n",
    "        user_win_count += 1\n",
    "    else:\n",
    "        print(f\"You lose. You chose {user_choice} and the computer chose {comp_choice}.\")\n",
    "\n",
    "print(f\"You won {user_win_count} of 3 games.\")"
   ]
  },
  {
   "cell_type": "markdown",
   "metadata": {},
   "source": [
    "b) Write a program where you play \"Rock, Paper, Scissors\" games against the computer until you have won 3 games. Simulate a random choice for the computer each game and ask the user to enter either rock, paper, or scissors. Print the number of games it took to win 3 times. Show the output of the program after playing the game.\n",
    "\n",
    "Example:\n",
    "\n",
    "                                    \"You won 3 out of <num_games> games.\""
   ]
  },
  {
   "cell_type": "code",
   "execution_count": null,
   "metadata": {},
   "outputs": [
    {
     "name": "stdout",
     "output_type": "stream",
     "text": [
      "You win! You chose rock and the computer chose scissors.\n",
      "You win! You chose paper and the computer chose rock.\n",
      "You lose. You chose scissors and the computer chose rock.\n",
      "Tie. You chose rock and the computer chose rock.\n",
      "You lose. You chose paper and the computer chose scissors.\n",
      "You win! You chose scissors and the computer chose paper.\n",
      "You won 3 out of 6 games.\n"
     ]
    }
   ],
   "source": [
    "import random as rm\n",
    "user_choices = ['rock', 'paper', 'scissors']\n",
    "user_win_count = 0\n",
    "game_count = 0\n",
    "\n",
    "while user_win_count < 3:\n",
    "    comp_choice = rm.choice(['rock', 'paper', 'scissors'])\n",
    "    user_choice = input(\"Choose rock, paper, or scissors.\")\n",
    "    if user_choice not in user_choices:\n",
    "        print(\"Invalid input.\")\n",
    "    elif user_choice == comp_choice:\n",
    "        print(f\"Tie. You chose {user_choice} and the computer chose {comp_choice}.\")\n",
    "        game_count += 1\n",
    "    elif (user_choice == \"rock\" and comp_choice == \"scissors\") or (user_choice == \"paper\" and comp_choice == \"rock\") or (user_choice == \"scissors\" and comp_choice == \"paper\"):\n",
    "        print(f\"You win! You chose {user_choice} and the computer chose {comp_choice}.\")\n",
    "        user_win_count += 1\n",
    "        game_count += 1\n",
    "    else:\n",
    "        print(f\"You lose. You chose {user_choice} and the computer chose {comp_choice}.\")\n",
    "        game_count += 1\n",
    "print(f\"You won 3 out of {game_count} games.\")"
   ]
  },
  {
   "cell_type": "markdown",
   "metadata": {},
   "source": [
    "### Question 4 (6 points)"
   ]
  },
  {
   "cell_type": "markdown",
   "metadata": {},
   "source": [
    "a) Write a program (loop) that prints all the factors of a positive integer input by the user. A factor is any positive integer that divides the number and leaves no remainder. Show the output of the program if the user inputs `24`. \n",
    "\n",
    "Example: The factors of 8 are 1, 2, 4, 8."
   ]
  },
  {
   "cell_type": "code",
   "execution_count": 31,
   "metadata": {},
   "outputs": [
    {
     "name": "stdout",
     "output_type": "stream",
     "text": [
      "The factors of 24 are [1, 2, 3, 4, 6, 8, 12, 24]\n"
     ]
    }
   ],
   "source": [
    "number = int(input(\"Enter a positive integer.\"))\n",
    "facs = []\n",
    "\n",
    "if number > 0:\n",
    "    for i in range(1, number+1):\n",
    "        if number % i == 0:\n",
    "            facs.append(i)\n",
    "    print(f\"The factors of {number} are {facs}\")\n",
    "else:\n",
    "    print(\"Invalid input. Try again with a positive integer.\")"
   ]
  },
  {
   "cell_type": "markdown",
   "metadata": {},
   "source": [
    "b) Write a **function** called `number_of_factors` that takes an integer and returns how many factors the number has. Run your function with `24` to check if it works."
   ]
  },
  {
   "cell_type": "code",
   "execution_count": 34,
   "metadata": {},
   "outputs": [
    {
     "name": "stdout",
     "output_type": "stream",
     "text": [
      "24 has 8 factors.\n"
     ]
    }
   ],
   "source": [
    "number = 24\n",
    "count_factors = 0\n",
    "\n",
    "if number > 0:\n",
    "    for i in range(1, number+1):\n",
    "        if number % i == 0:\n",
    "            count_factors += 1\n",
    "    print(f\"{number} has {count_factors} factors.\")\n",
    "else:\n",
    "    print(\"Invalid input. Enter a positive integer.\")"
   ]
  },
  {
   "cell_type": "markdown",
   "metadata": {},
   "source": [
    "### Question 5 (6 points)"
   ]
  },
  {
   "cell_type": "markdown",
   "metadata": {},
   "source": [
    "a) Write a program (loop) that identifies whether a positive integer input by the user is prime or not. A prime number is a number whose only divisors are 1 and itself. Show the output when the program is used to check if `89` is prime or not."
   ]
  },
  {
   "cell_type": "code",
   "execution_count": 8,
   "metadata": {},
   "outputs": [
    {
     "name": "stdout",
     "output_type": "stream",
     "text": [
      "89 is prime.\n"
     ]
    }
   ],
   "source": [
    "number = int(input(\"Enter a positive integer.\"))\n",
    "count_factors = 0\n",
    "\n",
    "if number > 0:\n",
    "    for i in range(1, number+1):\n",
    "        if number % i == 0:\n",
    "            count_factors += 1\n",
    "    if count_factors == 2:\n",
    "        print(f\"{number} is prime.\")\n",
    "    else:\n",
    "        print(f\"{number} is not prime.\")\n",
    "else:\n",
    "    print(\"Invalid input. Try again with a positive integer.\")"
   ]
  },
  {
   "cell_type": "markdown",
   "metadata": {},
   "source": [
    "b) Write a **function** that checks if a positive integer is prime or not. It should take one integer input and return a boolean. Run your function with `197` to check if it works."
   ]
  },
  {
   "cell_type": "code",
   "execution_count": 38,
   "metadata": {},
   "outputs": [
    {
     "name": "stdout",
     "output_type": "stream",
     "text": [
      "197 is prime. True or False?\n",
      "True.\n"
     ]
    }
   ],
   "source": [
    "number = 197\n",
    "count_factors = 0\n",
    "\n",
    "if number > 0:\n",
    "    print(f\"{number} is prime. True or False?\")\n",
    "    for i in range(1, number+1):\n",
    "        if number % i == 0:\n",
    "            count_factors += 1\n",
    "    if count_factors == 2:\n",
    "        print(\"True.\")\n",
    "    else:\n",
    "        print(\"False.\")\n",
    "else:\n",
    "    print(\"Invalid input. Try again with a positive integer.\")"
   ]
  },
  {
   "cell_type": "markdown",
   "metadata": {},
   "source": [
    "### Question 6 (4 points)"
   ]
  },
  {
   "cell_type": "markdown",
   "metadata": {},
   "source": [
    "Write a function that calculates the area of a rectangle. The function should have an input for length (in inches) and width (in inches). And have 2 ouputs: the area in terms of square inches and the area in terms of square feet. There are 12 inches in 1 foot. Run your function with a length of 102 inches and width of 60 inches to check if it works."
   ]
  },
  {
   "cell_type": "code",
   "execution_count": 18,
   "metadata": {},
   "outputs": [
    {
     "name": "stdout",
     "output_type": "stream",
     "text": [
      "The area of the rectangle is 6120 square inches or 42.5 square feet.\n"
     ]
    }
   ],
   "source": [
    "length = 102\n",
    "width = 60\n",
    "\n",
    "area_sq_in = length * width \n",
    "area_sq_ft = (length/12) * (width/12)\n",
    "\n",
    "print(f\"The area of the rectangle is {area_sq_in} square inches or {area_sq_ft} square feet.\")"
   ]
  },
  {
   "cell_type": "markdown",
   "metadata": {},
   "source": [
    "### Question 7 (3 points)"
   ]
  },
  {
   "cell_type": "markdown",
   "metadata": {},
   "source": [
    "Write a function that takes a word and a sentence as two string inputs and returns the number of times the word occurs in the sentence as the output.\n",
    "\n",
    "Run your function with **\"sea\"** and **“Sea shells are on the sea shore when the sea is calm.”** inputs to check if it works. Your function should work for any word and sentence. \n",
    "\n",
    "Note: at this time it does not have to differentiate a distinct word just if it appears in any form. Example: **“The sea gives me nausea.”** would return 2."
   ]
  },
  {
   "cell_type": "code",
   "execution_count": 43,
   "metadata": {},
   "outputs": [
    {
     "name": "stdout",
     "output_type": "stream",
     "text": [
      "The word you chose was 'sea.'\n",
      "The sentence you chose was 'sea shells are on the sea shore when the sea is calm.'\n",
      "'sea' appears in the sentence 3 times.\n"
     ]
    }
   ],
   "source": [
    "word = input(\"Enter a word.\").lower()\n",
    "sentence = input(\"Enter a sentence.\").lower()\n",
    "\n",
    "print(f\"The word you chose was '{word}.'\")\n",
    "print(f\"The sentence you chose was '{sentence}'\")\n",
    "\n",
    "print(f\"'{word}' appears in the sentence {sentence.count(word)} times.\")"
   ]
  }
 ],
 "metadata": {
  "kernelspec": {
   "display_name": ".venv",
   "language": "python",
   "name": "python3"
  },
  "language_info": {
   "codemirror_mode": {
    "name": "ipython",
    "version": 3
   },
   "file_extension": ".py",
   "mimetype": "text/x-python",
   "name": "python",
   "nbconvert_exporter": "python",
   "pygments_lexer": "ipython3",
   "version": "3.13.2"
  }
 },
 "nbformat": 4,
 "nbformat_minor": 4
}
